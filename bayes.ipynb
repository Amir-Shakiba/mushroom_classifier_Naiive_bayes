{
  "nbformat": 4,
  "nbformat_minor": 0,
  "metadata": {
    "colab": {
      "name": "bayes.ipynb",
      "version": "0.3.2",
      "provenance": [],
      "collapsed_sections": [],
      "toc_visible": true,
      "include_colab_link": true
    },
    "kernelspec": {
      "name": "python3",
      "display_name": "Python 3"
    },
    "accelerator": "GPU"
  },
  "cells": [
    {
      "cell_type": "markdown",
      "metadata": {
        "id": "view-in-github",
        "colab_type": "text"
      },
      "source": [
        "<a href=\"https://colab.research.google.com/github/Amir-Shakiba/mushroom_classifier_Naiive_bayes/blob/master/bayes.ipynb\" target=\"_parent\"><img src=\"https://colab.research.google.com/assets/colab-badge.svg\" alt=\"Open In Colab\"/></a>"
      ]
    },
    {
      "metadata": {
        "id": "gP6VnE_6pGZ4",
        "colab_type": "text"
      },
      "cell_type": "markdown",
      "source": [
        "#Implementing Naiive Bayes\n",
        "in this notebook we implemet naiive bayes on a mushroom dataset:D\n",
        "\n",
        "\n",
        "![mushrooms:D](https://cdn0.wideopenpets.com/wp-content/uploads/2018/03/Mushroom-feature-770x405.jpg)\n",
        "\n",
        "----\n",
        "for dataset link click[ here](https://archive.ics.uci.edu/ml/datasets/mushroom)\n",
        "ok , you can have a look at the data [here!](https://www.dropbox.com/s/47xkilb9f4gcveo/Capture.PNG)\n",
        "\n",
        "\n",
        "\n",
        "\n",
        "we have 23 features the first feature correspond to being poisonous or not and is binary the other features are not binary and can have different values"
      ]
    },
    {
      "metadata": {
        "id": "dxyGRdeQ9Jbx",
        "colab_type": "code",
        "colab": {}
      },
      "cell_type": "code",
      "source": [
        "import os"
      ],
      "execution_count": 0,
      "outputs": []
    },
    {
      "metadata": {
        "id": "BZvoIoSG99b3",
        "colab_type": "code",
        "colab": {}
      },
      "cell_type": "code",
      "source": [
        "pip install ssv"
      ],
      "execution_count": 0,
      "outputs": []
    },
    {
      "metadata": {
        "id": "ZZf0LPoE8oVK",
        "colab_type": "code",
        "colab": {}
      },
      "cell_type": "code",
      "source": [
        "import ssv\n",
        "\n",
        "train_table = ssv.loadf('noisy_train.ssv')\n",
        "\n",
        "noizy_model=train_table[0][0].splitlines()\n"
      ],
      "execution_count": 0,
      "outputs": []
    },
    {
      "metadata": {
        "id": "itF-Ws5Q-kN_",
        "colab_type": "text"
      },
      "cell_type": "markdown",
      "source": [
        "ssv is a package for reading ssv files:D\n",
        "\n",
        "\n",
        "ssv stands for space separated values i guess:D\n",
        "OK! \n",
        "what the third line does? our data is list inside list ,so we do [0][0] to reach the string!\n",
        "then we split it to different strings based on lines"
      ]
    },
    {
      "metadata": {
        "id": "KFHyZr4S-j90",
        "colab_type": "code",
        "colab": {}
      },
      "cell_type": "code",
      "source": [
        "!wget https://www.dropbox.com/s/12zzsz89vpo9afo/noisy_test.ssv"
      ],
      "execution_count": 0,
      "outputs": []
    },
    {
      "metadata": {
        "id": "PPxeN5OdjZCC",
        "colab_type": "code",
        "colab": {}
      },
      "cell_type": "code",
      "source": [
        "!wget https://www.dropbox.com/s/6122612iyf5q2ku/noisy_train.ssv"
      ],
      "execution_count": 0,
      "outputs": []
    },
    {
      "metadata": {
        "id": "3S_erH0vt1vr",
        "colab_type": "text"
      },
      "cell_type": "markdown",
      "source": [
        "downloading data from dropbox , so we dont have to upload it each time"
      ]
    },
    {
      "metadata": {
        "id": "wU2SL6K72B-7",
        "colab_type": "text"
      },
      "cell_type": "markdown",
      "source": [
        "the features names are in the second line\n"
      ]
    },
    {
      "metadata": {
        "id": "TE-vUV9zZOg6",
        "colab_type": "code",
        "colab": {}
      },
      "cell_type": "code",
      "source": [
        "attr=noizy_model[1].split()\n"
      ],
      "execution_count": 0,
      "outputs": []
    },
    {
      "metadata": {
        "id": "50ATSmNO2Itc",
        "colab_type": "text"
      },
      "cell_type": "markdown",
      "source": [
        "separating data from string to list which makes it easier to work with."
      ]
    },
    {
      "metadata": {
        "id": "52h7XVCDx9oh",
        "colab_type": "code",
        "colab": {}
      },
      "cell_type": "code",
      "source": [
        "features=[noizy_model[i].split() for i in range(3,len(noizy_model))]"
      ],
      "execution_count": 0,
      "outputs": []
    },
    {
      "metadata": {
        "id": "RgOA1bTQ1djq",
        "colab_type": "code",
        "colab": {}
      },
      "cell_type": "code",
      "source": [
        "test_table = ssv.loadf('/content/drive/My Drive/Colab Notebooks/harrington/noisy_test.ssv')\n",
        "noizy_test=test_table[0][0].splitlines()\n",
        "test_data =[noizy_test[i].split() for i in range(3,len(noizy_test))]"
      ],
      "execution_count": 0,
      "outputs": []
    },
    {
      "metadata": {
        "id": "BMZRSXU-SeHS",
        "colab_type": "code",
        "colab": {}
      },
      "cell_type": "code",
      "source": [
        "sum_poi=0 # total number of poisonous mushrooms in dataset\n",
        "for i in range(len(features)):\n",
        "    sum_poi+=int(features[i][0])\n",
        "p_poi=sum_poi/len(features)  # probability of a mushroom being poisonoush  "
      ],
      "execution_count": 0,
      "outputs": []
    },
    {
      "metadata": {
        "id": "IVlj_--W0k5h",
        "colab_type": "code",
        "colab": {}
      },
      "cell_type": "code",
      "source": [
        "import numpy as np"
      ],
      "execution_count": 0,
      "outputs": []
    },
    {
      "metadata": {
        "id": "JWMnN0ul2UdG",
        "colab_type": "text"
      },
      "cell_type": "markdown",
      "source": [
        "the calculate function returns the log probability based on the feature that we have sent in\n"
      ]
    },
    {
      "metadata": {
        "id": "R77Zm3Tj3j0E",
        "colab_type": "code",
        "colab": {}
      },
      "cell_type": "code",
      "source": [
        "def calculate(j,test_sample_j):\n",
        "    pois_and_feature=1\n",
        "    N_pois=2\n",
        "    N_good=2\n",
        "    good_and_feature=1\n",
        "\n",
        "    for i,feature in enumerate(features):\n",
        "        if feature[0]=='1':\n",
        "            N_pois+= 1\n",
        "            if feature[j]==test_sample_j   :\n",
        "             pois_and_feature+=1\n",
        "    for i,feature in enumerate(features):\n",
        "        if feature[0]=='0':\n",
        "            N_good+= 1\n",
        "            if feature[j]==test_sample_j   :\n",
        "             good_and_feature+=1        \n",
        "    return np.log(pois_and_feature/N_pois),np.log(good_and_feature/N_good)        "
      ],
      "execution_count": 0,
      "outputs": []
    },
    {
      "metadata": {
        "colab_type": "code",
        "id": "-_5-ryof2zRW",
        "colab": {}
      },
      "cell_type": "code",
      "source": [
        "test_sample=test_data[0]\n",
        "p_pois=[p_poi]\n",
        "p_good=[1-p_poi]\n",
        "\n",
        "for j in range(1,len(attr)):\n",
        "    print(j)\n",
        "    p_pois_feature,p_good_feature=calculate(j,test_sample[j])\n",
        "    p_pois.append(p_pois_feature)\n",
        "    \n",
        "    p_good.append(p_good_feature)\n",
        "\n",
        "print(np.sum(np.array(p_pois)),np.sum(np.array(p_good)))    "
      ],
      "execution_count": 0,
      "outputs": []
    },
    {
      "metadata": {
        "id": "cbgroUZ-AH6P",
        "colab_type": "text"
      },
      "cell_type": "markdown",
      "source": [
        "the second for loop calculates the log probability for all of the features and appends them to two lists,\n",
        "\n",
        "our final accuracy is 0.84 which is not bad."
      ]
    },
    {
      "metadata": {
        "id": "c_h0_n232bIq",
        "colab_type": "code",
        "outputId": "2017cc16-5904-4446-8715-2bfade7dd45e",
        "colab": {
          "base_uri": "https://localhost:8080/",
          "height": 34
        }
      },
      "cell_type": "code",
      "source": [
        "\n",
        "corrects=0\n",
        "for i,test_sample in enumerate(test_data):\n",
        "    p_pois=[np.log(p_poi)]\n",
        "    p_good=[np.log(1-p_poi)]\n",
        "    \n",
        "    for j in range(1,len(attr)):\n",
        "        p_pois_feature,p_good_feature=calculate(j,test_sample[j])\n",
        "        p_pois.append(p_pois_feature)\n",
        "        p_good.append(p_good_feature)\n",
        "    if np.sum(np.array(p_pois))>np.sum(np.array(p_good)):\n",
        "        prediction='1'\n",
        "    else:\n",
        "        prediction='0'\n",
        "    if prediction ==test_sample[0]:\n",
        "        corrects+=1\n",
        "print(corrects/len(test_data))        "
      ],
      "execution_count": 61,
      "outputs": [
        {
          "output_type": "stream",
          "text": [
            "0.8482880755608029\n"
          ],
          "name": "stdout"
        }
      ]
    }
  ]
}